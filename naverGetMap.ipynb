{
 "cells": [
  {
   "cell_type": "markdown",
   "metadata": {},
   "source": [
    "# 1. get Image"
   ]
  },
  {
   "cell_type": "code",
   "execution_count": null,
   "metadata": {},
   "outputs": [],
   "source": [
    "from PIL import Image\n",
    "import requests\n",
    "import io\n",
    "\n",
    "# NCP 콘솔에서 복사한 클라이언트ID와 클라이언트Secret 값\n",
    "client_id = \"\"\n",
    "client_secret = \"\"\n",
    "\n",
    "# 좌표 (경도, 위도)\n",
    "endpoint = \"https://naveropenapi.apigw.ntruss.com/map-static/v2/raster\"\n",
    "headers = {\n",
    "    \"X-NCP-APIGW-API-KEY-ID\": client_id,\n",
    "    \"X-NCP-APIGW-API-KEY\": client_secret,\n",
    "}\n",
    "# 중심 좌표\n",
    "lon, lat =  \"127.364128\", \"36.368133\" # kaist KI buidling \n",
    "# lon, lat = \"129.40080636721268\", \"35.99901469560687\" # posco\n",
    "# lon, lat = \"127.020326886309\", \"37.5164324582415\"\n",
    "_center = f\"{lon},{lat}\"\n",
    "# 줌 레벨 - 0 ~ 20\n",
    "_level = 18\n",
    "# 가로 세로 크기 (픽셀)\n",
    "_w, _h = 1000, 1000\n",
    "# 지도 유형 - basic, traffic, satellite, satellite_base, terrain\n",
    "_maptype = \"basic\"\n",
    "# 반환 이미지 형식 - jpg, jpeg, png8, png\n",
    "_format = \"png\"\n",
    "# 고해상도 디스펠레이 지원을 위한 옵션 - 1, 2\n",
    "_scale = 1\n",
    "# 마커\n",
    "_markers = f\"\"\"type:d|size:mid|pos:{lon} {lat}|color:red\"\"\"\n",
    "# 라벨 언어 설정 - ko, en, ja, zh\n",
    "_lang = \"en\"\n",
    "# 대중교통 정보 노출 - Boolean\n",
    "_public_transit = False\n",
    "# 서비스에서 사용할 데이터 버전 파라미터 전달 CDN 캐시 무효화\n",
    "_dataversion = \"\"\n",
    "\n",
    "# URL\n",
    "url = f\"{endpoint}?center={_center}&level={_level}&w={_w}&h={_h}&maptype={_maptype}&format={_format}&scale={_scale}&markers={_markers}&lang={_lang}&public_transit={_public_transit}&dataversion={_dataversion}\"\n",
    "\n",
    "res = requests.get(url, headers=headers)\n",
    "\n",
    "image_data = io.BytesIO(res.content)\n",
    "image = Image.open(image_data)\n",
    "image"
   ]
  },
  {
   "cell_type": "code",
   "execution_count": null,
   "metadata": {},
   "outputs": [],
   "source": [
    "# save image \n",
    "image.save(\"KI_map.png\")"
   ]
  }
 ],
 "metadata": {
  "kernelspec": {
   "display_name": "spectrums",
   "language": "python",
   "name": "python3"
  },
  "language_info": {
   "codemirror_mode": {
    "name": "ipython",
    "version": 3
   },
   "file_extension": ".py",
   "mimetype": "text/x-python",
   "name": "python",
   "nbconvert_exporter": "python",
   "pygments_lexer": "ipython3",
   "version": "3.10.11"
  },
  "orig_nbformat": 4
 },
 "nbformat": 4,
 "nbformat_minor": 2
}
