{
 "cells": [
  {
   "cell_type": "code",
   "execution_count": null,
   "metadata": {},
   "outputs": [],
   "source": [
    "from navmplot import navmplot\n",
    "\n",
    "# Place map\n",
    "mymap = NaverMapPlotter(36.0207091, 127.9204629, 3, 'YOUR_API_KEY')\n",
    "\n",
    "# Polyline\n",
    "path = [(37.75,35.42,35.57,36.30,35.80,38.70),\n",
    "         (125.4,128.56,128.34,125.9,128.2,127.9)]\n",
    "path2 = [[i+.1 for i in path[0]], [i+.12 for i in path[1]]]\n",
    "mymap.plot(path[0], path[1], \"plum\", edge_width=10)\n",
    "mymap.plot(path2[0], path2[1], \"red\")\n",
    "\n",
    "# Scatter points\n",
    "mymap.scatter(path[0],path[1],size=40000)\n",
    "\n",
    "# Marker\n",
    "mymap.marker(37.75,125.5,title='mymarker')\n",
    "\n",
    "# Draw\n",
    "mymap.draw('mymap.html')"
   ]
  },
  {
   "cell_type": "code",
   "execution_count": 1,
   "metadata": {},
   "outputs": [],
   "source": [
    "from IOHandler import *\n",
    "import numpy as np\n",
    "\n",
    "\n",
    "numpy_array = image2numpy('depositphotos_81880318-stock-illustration-vector-greyscale-city-map-pattern.jpg')\n",
    "\n",
    "\n"
   ]
  },
  {
   "cell_type": "code",
   "execution_count": 2,
   "metadata": {},
   "outputs": [
    {
     "data": {
      "text/plain": [
       "(1003, 1024)"
      ]
     },
     "execution_count": 2,
     "metadata": {},
     "output_type": "execute_result"
    }
   ],
   "source": [
    "numpy_array.shape"
   ]
  }
 ],
 "metadata": {
  "kernelspec": {
   "display_name": "spectrums",
   "language": "python",
   "name": "python3"
  },
  "language_info": {
   "codemirror_mode": {
    "name": "ipython",
    "version": 3
   },
   "file_extension": ".py",
   "mimetype": "text/x-python",
   "name": "python",
   "nbconvert_exporter": "python",
   "pygments_lexer": "ipython3",
   "version": "3.10.11"
  },
  "orig_nbformat": 4
 },
 "nbformat": 4,
 "nbformat_minor": 2
}
