{
 "cells": [
  {
   "cell_type": "markdown",
   "metadata": {},
   "source": [
    "# 1."
   ]
  },
  {
   "cell_type": "code",
   "execution_count": 1,
   "metadata": {},
   "outputs": [],
   "source": [
    "import datetime\n",
    "import time\n",
    "\n",
    "import matplotlib.pyplot as plt\n",
    "import numpy as np\n",
    "from PIL import Image\n",
    "\n",
    "from IOHandler import *\n",
    "\n",
    "# %matplotlib widget"
   ]
  },
  {
   "cell_type": "code",
   "execution_count": 2,
   "metadata": {},
   "outputs": [
    {
     "data": {
      "text/plain": [
       "<matplotlib.image.AxesImage at 0x7f2cf4e83040>"
      ]
     },
     "execution_count": 2,
     "metadata": {},
     "output_type": "execute_result"
    },
    {
     "data": {
      "image/png": "[encoded data removed]",
      "text/plain": [
       "<Figure size 640x480 with 1 Axes>"
      ]
     },
     "metadata": {},
     "output_type": "display_data"
    }
   ],
   "source": [
    "numpy_array = image2numpy(\n",
    "    'polygon.png', \n",
    "    entrance=[(382, 183), (326, 102)]\n",
    "    )\n",
    "plt.imshow(numpy_array, cmap='gray_r')\n"
   ]
  },
  {
   "cell_type": "code",
   "execution_count": 3,
   "metadata": {},
   "outputs": [
    {
     "data": {
      "text/plain": [
       "(337, 452)"
      ]
     },
     "execution_count": 3,
     "metadata": {},
     "output_type": "execute_result"
    }
   ],
   "source": [
    "numpy_array.shape"
   ]
  },
  {
   "cell_type": "code",
   "execution_count": 4,
   "metadata": {},
   "outputs": [],
   "source": [
    "\n",
    "handler = IOHandler(\n",
    "    numpy_array, \n",
    "    36.3740132, \n",
    "    127.3651689,\n",
    "    36.374502, \n",
    "    127.3662224\n",
    ")\n"
   ]
  },
  {
   "cell_type": "code",
   "execution_count": 6,
   "metadata": {},
   "outputs": [
    {
     "name": "stdout",
     "output_type": "stream",
     "text": [
      "per sampling costs 0.00348 ms\n"
     ]
    }
   ],
   "source": [
    "N = 1000000\n",
    "shift = 50\n",
    "xq = handler.longitudes[np.random.randint(\n",
    "    shift, 337-shift, N)] + np.random.rand(N) * 0.00000001\n",
    "yq = handler.latitudes[np.random.randint(\n",
    "    shift, 452-shift, N)] + np.random.rand(N) * 0.00000001\n",
    "\n",
    "startTime = time.time()\n",
    "for x, y in zip(xq, yq):\n",
    "    handler.searchValid(y, x)\n",
    "endTime = time.time()\n",
    "\n",
    "print(f'per sampling costs {(endTime-startTime)*1000/N:.5f} ms')\n"
   ]
  }
 ],
 "metadata": {
  "kernelspec": {
   "display_name": "spectrums",
   "language": "python",
   "name": "python3"
  },
  "language_info": {
   "codemirror_mode": {
    "name": "ipython",
    "version": 3
   },
   "file_extension": ".py",
   "mimetype": "text/x-python",
   "name": "python",
   "nbconvert_exporter": "python",
   "pygments_lexer": "ipython3",
   "version": "3.10.11"
  },
  "orig_nbformat": 4
 },
 "nbformat": 4,
 "nbformat_minor": 2
}
