{
 "cells": [
  {
   "cell_type": "code",
   "execution_count": 1,
   "metadata": {},
   "outputs": [],
   "source": [
    "# Specify the name that is used to seach for the data\n",
    "# place_name = \"KAIST N1, Daejeon, South Korea\"\n",
    "place_name = \"Kim Beang-Ho & Kim Sam-Youl ITC Building\"\n",
    "# place_name = \"Pohang Steel Plant, Jecheol-dong, Nam-gu, Pohang-si, North Gyeongsang, 37920, South Korea\""
   ]
  },
  {
   "cell_type": "code",
   "execution_count": 2,
   "metadata": {},
   "outputs": [],
   "source": [
    "# import osmnx\n",
    "import geopandas as gpd\n",
    "import matplotlib.pyplot as plt\n",
    "import numpy as np\n",
    "import osmnx as ox\n",
    "import pandas as pd\n",
    "import Polygon\n",
    "from matplotlib.patches import Polygon\n",
    "from PIL import Image\n",
    "from IOHandler import *\n",
    "# Get place boundary related to the place name as a geodataframe\n",
    "area = ox.geocode_to_gdf(place_name)\n",
    "# area = ox.geocode_to_gdf('223633355', by_osmid=True)\n"
   ]
  },
  {
   "cell_type": "code",
   "execution_count": 3,
   "metadata": {},
   "outputs": [
    {
     "data": {
      "text/html": [
       "<div>\n",
       "<style scoped>\n",
       "    .dataframe tbody tr th:only-of-type {\n",
       "        vertical-align: middle;\n",
       "    }\n",
       "\n",
       "    .dataframe tbody tr th {\n",
       "        vertical-align: top;\n",
       "    }\n",
       "\n",
       "    .dataframe thead th {\n",
       "        text-align: right;\n",
       "    }\n",
       "</style>\n",
       "<table border=\"1\" class=\"dataframe\">\n",
       "  <thead>\n",
       "    <tr style=\"text-align: right;\">\n",
       "      <th></th>\n",
       "      <th>geometry</th>\n",
       "      <th>bbox_north</th>\n",
       "      <th>bbox_south</th>\n",
       "      <th>bbox_east</th>\n",
       "      <th>bbox_west</th>\n",
       "      <th>place_id</th>\n",
       "      <th>osm_type</th>\n",
       "      <th>osm_id</th>\n",
       "      <th>lat</th>\n",
       "      <th>lon</th>\n",
       "      <th>class</th>\n",
       "      <th>type</th>\n",
       "      <th>place_rank</th>\n",
       "      <th>importance</th>\n",
       "      <th>addresstype</th>\n",
       "      <th>name</th>\n",
       "      <th>display_name</th>\n",
       "    </tr>\n",
       "  </thead>\n",
       "  <tbody>\n",
       "    <tr>\n",
       "      <th>0</th>\n",
       "      <td>POLYGON ((127.36517 36.37437, 127.36517 36.374...</td>\n",
       "      <td>36.374368</td>\n",
       "      <td>36.374013</td>\n",
       "      <td>127.366222</td>\n",
       "      <td>127.365172</td>\n",
       "      <td>228504570</td>\n",
       "      <td>way</td>\n",
       "      <td>223633355</td>\n",
       "      <td>36.37417</td>\n",
       "      <td>127.365698</td>\n",
       "      <td>building</td>\n",
       "      <td>university</td>\n",
       "      <td>30</td>\n",
       "      <td>0.00001</td>\n",
       "      <td>building</td>\n",
       "      <td>Kim Beang-Ho &amp; Kim Sam-Youl ITC Building (N1)</td>\n",
       "      <td>Kim Beang-Ho &amp; Kim Sam-Youl ITC Building (N1),...</td>\n",
       "    </tr>\n",
       "  </tbody>\n",
       "</table>\n",
       "</div>"
      ],
      "text/plain": [
       "                                            geometry  bbox_north  bbox_south  \\\n",
       "0  POLYGON ((127.36517 36.37437, 127.36517 36.374...   36.374368   36.374013   \n",
       "\n",
       "    bbox_east   bbox_west   place_id osm_type     osm_id       lat  \\\n",
       "0  127.366222  127.365172  228504570      way  223633355  36.37417   \n",
       "\n",
       "          lon     class        type  place_rank  importance addresstype  \\\n",
       "0  127.365698  building  university          30     0.00001    building   \n",
       "\n",
       "                                            name  \\\n",
       "0  Kim Beang-Ho & Kim Sam-Youl ITC Building (N1)   \n",
       "\n",
       "                                        display_name  \n",
       "0  Kim Beang-Ho & Kim Sam-Youl ITC Building (N1),...  "
      ]
     },
     "execution_count": 3,
     "metadata": {},
     "output_type": "execute_result"
    }
   ],
   "source": [
    "# Check the data type\n",
    "area"
   ]
  },
  {
   "cell_type": "code",
   "execution_count": 4,
   "metadata": {},
   "outputs": [
    {
     "data": {
      "text/plain": [
       "geopandas.geodataframe.GeoDataFrame"
      ]
     },
     "execution_count": 4,
     "metadata": {},
     "output_type": "execute_result"
    }
   ],
   "source": [
    "# Check the data type\n",
    "type(area)"
   ]
  },
  {
   "cell_type": "code",
   "execution_count": 5,
   "metadata": {},
   "outputs": [
    {
     "data": {
      "text/plain": [
       "<Axes: >"
      ]
     },
     "execution_count": 5,
     "metadata": {},
     "output_type": "execute_result"
    },
    {
     "data": {
      "image/png": "[encoded data removed]",
      "text/plain": [
       "<Figure size 640x480 with 1 Axes>"
      ]
     },
     "metadata": {},
     "output_type": "display_data"
    }
   ],
   "source": [
    "area.plot()\n"
   ]
  },
  {
   "cell_type": "code",
   "execution_count": 6,
   "metadata": {},
   "outputs": [
    {
     "name": "stderr",
     "output_type": "stream",
     "text": [
      "/tmp/ipykernel_3609000/2857596332.py:4: UserWarning: The `geometries` module and `geometries_from_X` functions have been renamed the `features` module and `features_from_X` functions. Use these instead. The `geometries` module and function names are deprecated and will be removed in a future release.\n",
      "  buildings = ox.geometries_from_place(place_name, tags)\n"
     ]
    },
    {
     "data": {
      "text/html": [
       "<div>\n",
       "<style scoped>\n",
       "    .dataframe tbody tr th:only-of-type {\n",
       "        vertical-align: middle;\n",
       "    }\n",
       "\n",
       "    .dataframe tbody tr th {\n",
       "        vertical-align: top;\n",
       "    }\n",
       "\n",
       "    .dataframe thead th {\n",
       "        text-align: right;\n",
       "    }\n",
       "</style>\n",
       "<table border=\"1\" class=\"dataframe\">\n",
       "  <thead>\n",
       "    <tr style=\"text-align: right;\">\n",
       "      <th></th>\n",
       "      <th></th>\n",
       "      <th>geometry</th>\n",
       "      <th>nodes</th>\n",
       "      <th>alt_name</th>\n",
       "      <th>building</th>\n",
       "      <th>building:levels</th>\n",
       "      <th>name</th>\n",
       "      <th>name:en</th>\n",
       "      <th>ref</th>\n",
       "    </tr>\n",
       "    <tr>\n",
       "      <th>element_type</th>\n",
       "      <th>osmid</th>\n",
       "      <th></th>\n",
       "      <th></th>\n",
       "      <th></th>\n",
       "      <th></th>\n",
       "      <th></th>\n",
       "      <th></th>\n",
       "      <th></th>\n",
       "      <th></th>\n",
       "    </tr>\n",
       "  </thead>\n",
       "  <tbody>\n",
       "    <tr>\n",
       "      <th rowspan=\"2\" valign=\"top\">way</th>\n",
       "      <th>223633355</th>\n",
       "      <td>POLYGON ((127.36517 36.37437, 127.36517 36.374...</td>\n",
       "      <td>[2325103531, 4943267285, 4943267291, 494326728...</td>\n",
       "      <td>N1</td>\n",
       "      <td>university</td>\n",
       "      <td>9</td>\n",
       "      <td>김병호·김삼열 IT융합 빌딩 (N1)</td>\n",
       "      <td>Kim Beang-Ho &amp; Kim Sam-Youl ITC Building (N1)</td>\n",
       "      <td>N1</td>\n",
       "    </tr>\n",
       "    <tr>\n",
       "      <th>468197980</th>\n",
       "      <td>POLYGON ((127.36517 36.37437, 127.36560 36.374...</td>\n",
       "      <td>[2325103531, 4627616337, 4627616338, 462761633...</td>\n",
       "      <td>NaN</td>\n",
       "      <td>yes</td>\n",
       "      <td>NaN</td>\n",
       "      <td>NaN</td>\n",
       "      <td>NaN</td>\n",
       "      <td>NaN</td>\n",
       "    </tr>\n",
       "  </tbody>\n",
       "</table>\n",
       "</div>"
      ],
      "text/plain": [
       "                                                                 geometry  \\\n",
       "element_type osmid                                                          \n",
       "way          223633355  POLYGON ((127.36517 36.37437, 127.36517 36.374...   \n",
       "             468197980  POLYGON ((127.36517 36.37437, 127.36560 36.374...   \n",
       "\n",
       "                                                                    nodes  \\\n",
       "element_type osmid                                                          \n",
       "way          223633355  [2325103531, 4943267285, 4943267291, 494326728...   \n",
       "             468197980  [2325103531, 4627616337, 4627616338, 462761633...   \n",
       "\n",
       "                       alt_name    building building:levels  \\\n",
       "element_type osmid                                            \n",
       "way          223633355       N1  university               9   \n",
       "             468197980      NaN         yes             NaN   \n",
       "\n",
       "                                        name  \\\n",
       "element_type osmid                             \n",
       "way          223633355  김병호·김삼열 IT융합 빌딩 (N1)   \n",
       "             468197980                   NaN   \n",
       "\n",
       "                                                              name:en  ref  \n",
       "element_type osmid                                                          \n",
       "way          223633355  Kim Beang-Ho & Kim Sam-Youl ITC Building (N1)   N1  \n",
       "             468197980                                            NaN  NaN  "
      ]
     },
     "execution_count": 6,
     "metadata": {},
     "output_type": "execute_result"
    }
   ],
   "source": [
    "# List key-value pairs for tags\n",
    "tags = {'building': True}   \n",
    "\n",
    "buildings = ox.geometries_from_place(place_name, tags)\n",
    "buildings.head()"
   ]
  },
  {
   "cell_type": "code",
   "execution_count": 7,
   "metadata": {},
   "outputs": [
    {
     "data": {
      "text/html": [
       "<div>\n",
       "<style scoped>\n",
       "    .dataframe tbody tr th:only-of-type {\n",
       "        vertical-align: middle;\n",
       "    }\n",
       "\n",
       "    .dataframe tbody tr th {\n",
       "        vertical-align: top;\n",
       "    }\n",
       "\n",
       "    .dataframe thead th {\n",
       "        text-align: right;\n",
       "    }\n",
       "</style>\n",
       "<table border=\"1\" class=\"dataframe\">\n",
       "  <thead>\n",
       "    <tr style=\"text-align: right;\">\n",
       "      <th></th>\n",
       "      <th></th>\n",
       "      <th>x</th>\n",
       "      <th>y</th>\n",
       "    </tr>\n",
       "    <tr>\n",
       "      <th>element_type</th>\n",
       "      <th>osmid</th>\n",
       "      <th></th>\n",
       "      <th></th>\n",
       "    </tr>\n",
       "  </thead>\n",
       "  <tbody>\n",
       "    <tr>\n",
       "      <th rowspan=\"17\" valign=\"top\">way</th>\n",
       "      <th>223633355</th>\n",
       "      <td>127.365172</td>\n",
       "      <td>36.374366</td>\n",
       "    </tr>\n",
       "    <tr>\n",
       "      <th>223633355</th>\n",
       "      <td>127.365173</td>\n",
       "      <td>36.374293</td>\n",
       "    </tr>\n",
       "    <tr>\n",
       "      <th>223633355</th>\n",
       "      <td>127.365174</td>\n",
       "      <td>36.374274</td>\n",
       "    </tr>\n",
       "    <tr>\n",
       "      <th>223633355</th>\n",
       "      <td>127.365174</td>\n",
       "      <td>36.374237</td>\n",
       "    </tr>\n",
       "    <tr>\n",
       "      <th>223633355</th>\n",
       "      <td>127.365176</td>\n",
       "      <td>36.374102</td>\n",
       "    </tr>\n",
       "    <tr>\n",
       "      <th>223633355</th>\n",
       "      <td>127.365363</td>\n",
       "      <td>36.374102</td>\n",
       "    </tr>\n",
       "    <tr>\n",
       "      <th>223633355</th>\n",
       "      <td>127.365363</td>\n",
       "      <td>36.374049</td>\n",
       "    </tr>\n",
       "    <tr>\n",
       "      <th>223633355</th>\n",
       "      <td>127.365363</td>\n",
       "      <td>36.374013</td>\n",
       "    </tr>\n",
       "    <tr>\n",
       "      <th>223633355</th>\n",
       "      <td>127.366222</td>\n",
       "      <td>36.374014</td>\n",
       "    </tr>\n",
       "    <tr>\n",
       "      <th>223633355</th>\n",
       "      <td>127.366221</td>\n",
       "      <td>36.374368</td>\n",
       "    </tr>\n",
       "    <tr>\n",
       "      <th>223633355</th>\n",
       "      <td>127.365600</td>\n",
       "      <td>36.374368</td>\n",
       "    </tr>\n",
       "    <tr>\n",
       "      <th>223633355</th>\n",
       "      <td>127.365172</td>\n",
       "      <td>36.374366</td>\n",
       "    </tr>\n",
       "    <tr>\n",
       "      <th>468197980</th>\n",
       "      <td>127.365172</td>\n",
       "      <td>36.374366</td>\n",
       "    </tr>\n",
       "    <tr>\n",
       "      <th>468197980</th>\n",
       "      <td>127.365600</td>\n",
       "      <td>36.374368</td>\n",
       "    </tr>\n",
       "    <tr>\n",
       "      <th>468197980</th>\n",
       "      <td>127.365598</td>\n",
       "      <td>36.374502</td>\n",
       "    </tr>\n",
       "    <tr>\n",
       "      <th>468197980</th>\n",
       "      <td>127.365169</td>\n",
       "      <td>36.374499</td>\n",
       "    </tr>\n",
       "    <tr>\n",
       "      <th>468197980</th>\n",
       "      <td>127.365172</td>\n",
       "      <td>36.374366</td>\n",
       "    </tr>\n",
       "  </tbody>\n",
       "</table>\n",
       "</div>"
      ],
      "text/plain": [
       "                                 x          y\n",
       "element_type osmid                           \n",
       "way          223633355  127.365172  36.374366\n",
       "             223633355  127.365173  36.374293\n",
       "             223633355  127.365174  36.374274\n",
       "             223633355  127.365174  36.374237\n",
       "             223633355  127.365176  36.374102\n",
       "             223633355  127.365363  36.374102\n",
       "             223633355  127.365363  36.374049\n",
       "             223633355  127.365363  36.374013\n",
       "             223633355  127.366222  36.374014\n",
       "             223633355  127.366221  36.374368\n",
       "             223633355  127.365600  36.374368\n",
       "             223633355  127.365172  36.374366\n",
       "             468197980  127.365172  36.374366\n",
       "             468197980  127.365600  36.374368\n",
       "             468197980  127.365598  36.374502\n",
       "             468197980  127.365169  36.374499\n",
       "             468197980  127.365172  36.374366"
      ]
     },
     "execution_count": 7,
     "metadata": {},
     "output_type": "execute_result"
    }
   ],
   "source": [
    "buildings.get_coordinates()"
   ]
  },
  {
   "cell_type": "code",
   "execution_count": 8,
   "metadata": {},
   "outputs": [
    {
     "data": {
      "text/plain": [
       "[<matplotlib.patches.Polygon at 0x7f06fc7e1a50>]"
      ]
     },
     "execution_count": 8,
     "metadata": {},
     "output_type": "execute_result"
    },
    {
     "data": {
      "image/png": "[encoded data removed]",
      "text/plain": [
       "<Figure size 640x480 with 1 Axes>"
      ]
     },
     "metadata": {},
     "output_type": "display_data"
    }
   ],
   "source": [
    "polygon_coords = buildings.get_coordinates()[['x', 'y']].to_numpy().reshape(-1, 2)\n",
    "plt.fill(polygon_coords[:,0], polygon_coords[:,1], 'r')"
   ]
  },
  {
   "cell_type": "code",
   "execution_count": 9,
   "metadata": {},
   "outputs": [
    {
     "data": {
      "text/plain": [
       "[<matplotlib.patches.Polygon at 0x7f06fc663dc0>]"
      ]
     },
     "execution_count": 9,
     "metadata": {},
     "output_type": "execute_result"
    },
    {
     "data": {
      "image/png": "[encoded data removed]",
      "text/plain": [
       "<Figure size 640x480 with 1 Axes>"
      ]
     },
     "metadata": {},
     "output_type": "display_data"
    }
   ],
   "source": [
    "plt.fill(polygon_coords[:,0], polygon_coords[:,1], 'r')"
   ]
  },
  {
   "cell_type": "code",
   "execution_count": 10,
   "metadata": {},
   "outputs": [
    {
     "name": "stdout",
     "output_type": "stream",
     "text": [
      "top:     988000.1288090819\n",
      "left:    1819626.6479135496\n",
      "bottom:  987905.704694655\n",
      "right:   1819680.8664739528\n"
     ]
    },
    {
     "data": {
      "text/plain": [
       "<matplotlib.image.AxesImage at 0x7f06fc6cc6d0>"
      ]
     },
     "execution_count": 10,
     "metadata": {},
     "output_type": "execute_result"
    },
    {
     "data": {
      "image/png": "[encoded data removed]",
      "text/plain": [
       "<Figure size 640x480 with 1 Axes>"
      ]
     },
     "metadata": {},
     "output_type": "display_data"
    }
   ],
   "source": [
    "polygon_coords = buildings.get_coordinates()[['x', 'y']].to_numpy().reshape(-1, 2)\n",
    "polygon_coords = latlonTransformer(polygon_coords, 'WGS84', 'epsg:5179')\n",
    "maparray = poly2numpy([polygon_coords])\n",
    "plt.imshow(maparray, cmap='gray_r',origin='lower')"
   ]
  },
  {
   "cell_type": "code",
   "execution_count": null,
   "metadata": {},
   "outputs": [],
   "source": [
    "# Plot footprints \n",
    "a= buildings.plot()"
   ]
  },
  {
   "cell_type": "code",
   "execution_count": null,
   "metadata": {},
   "outputs": [],
   "source": [
    "# set the display line to max\n",
    "pd.set_option('display.max_columns', None)\n",
    "buildings['name:ja']\n",
    "# find the column 'name:ja' contains \"N1\"\n",
    "a = buildings['name:en']\n",
    "# find the index of the row that contains \"N1\" ignore the nan\n",
    "a = a[a.str.contains(\"N1\", na=False)]\n",
    "\n"
   ]
  },
  {
   "cell_type": "code",
   "execution_count": null,
   "metadata": {},
   "outputs": [],
   "source": [
    "for idx, building in enumerate(buildings):\n",
    "    print(building)\n"
   ]
  },
  {
   "cell_type": "code",
   "execution_count": null,
   "metadata": {},
   "outputs": [],
   "source": [
    "# turn the plot into a image file and save the topLeft and bottomRight coordinates in lon and lat\n",
    "a= buildings.plot()\n",
    "fig = a.get_figure()\n",
    "\n"
   ]
  }
 ],
 "metadata": {
  "kernelspec": {
   "display_name": "spectrums",
   "language": "python",
   "name": "python3"
  },
  "language_info": {
   "codemirror_mode": {
    "name": "ipython",
    "version": 3
   },
   "file_extension": ".py",
   "mimetype": "text/x-python",
   "name": "python",
   "nbconvert_exporter": "python",
   "pygments_lexer": "ipython3",
   "version": "3.10.11"
  },
  "orig_nbformat": 4
 },
 "nbformat": 4,
 "nbformat_minor": 2
}
